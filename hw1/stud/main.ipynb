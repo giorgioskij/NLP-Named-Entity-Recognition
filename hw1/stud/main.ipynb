{
 "cells": [
  {
   "cell_type": "code",
   "execution_count": null,
   "metadata": {},
   "outputs": [],
   "source": [
    "\"\"\"Main file for interactive training and testing\n",
    "\"\"\"\n",
    "#%% imports\n",
    "from pathlib import Path\n",
    "import sys\n",
    "import torch\n",
    "from torch import nn\n",
    "from torch.utils.data import DataLoader\n",
    "\n",
    "sys.path.append(str(Path(__file__).parent.parent))\n",
    "\n",
    "from stud.nerdtagger import NerdTagger\n",
    "from stud import pretrained\n",
    "from stud import dataset\n",
    "from stud import config\n",
    "from stud import lstm\n",
    "from stud import conll\n",
    "from stud import hypers\n",
    "\n",
    "device = config.DEVICE\n",
    "\n",
    "#%% load and test\n",
    "\n",
    "# vocab\n",
    "print('Loading data...')\n",
    "vocab = dataset.Vocabulary(path=config.MODEL / 'vocab-glove.pkl')\n",
    "\n",
    "# dataset\n",
    "trainloader, devloader = dataset.get_dataloaders(vocab, use_pos=True)\n",
    "\n",
    "# model\n",
    "model = lstm.NerModel(n_classes=13,\n",
    "                      embedding_dim=100,\n",
    "                      vocab_size=len(vocab),\n",
    "                      padding_idx=vocab.pad_label_id,\n",
    "                      hidden_size=200,\n",
    "                      bidirectional=True,\n",
    "                      double_linear=True,\n",
    "                      use_pos=True).to(config.DEVICE)\n",
    "params = hypers.get_default_params(model, vocab)\n",
    "\n",
    "# test\n",
    "# model.load_state_dict(\n",
    "#     torch.load(config.MODEL / '7071-glove-200h-double.pth',\n",
    "#                map_location=config.DEVICE))\n",
    "# lstm.test(model, devloader, params)\n",
    "\n",
    "# train\n",
    "lstm.train(model, trainloader, devloader, params)\n"
   ]
  }
 ],
 "metadata": {
  "language_info": {
   "name": "python"
  },
  "orig_nbformat": 4
 },
 "nbformat": 4,
 "nbformat_minor": 2
}
